{
 "cells": [
  {
   "cell_type": "code",
   "execution_count": null,
   "id": "30075764",
   "metadata": {},
   "outputs": [],
   "source": [
    "create a Greet function "
   ]
  },
  {
   "cell_type": "code",
   "execution_count": 1,
   "id": "0e059aa7",
   "metadata": {},
   "outputs": [],
   "source": [
    "def greet():\n",
    "    \"'creating a greet function'\"\n",
    "    print(\"hello\")"
   ]
  },
  {
   "cell_type": "code",
   "execution_count": 2,
   "id": "7c1077e2",
   "metadata": {},
   "outputs": [
    {
     "name": "stdout",
     "output_type": "stream",
     "text": [
      "hello\n"
     ]
    }
   ],
   "source": [
    "greet()"
   ]
  },
  {
   "cell_type": "code",
   "execution_count": null,
   "id": "11542ee8",
   "metadata": {},
   "outputs": [],
   "source": []
  },
  {
   "cell_type": "code",
   "execution_count": 3,
   "id": "153bd2e5",
   "metadata": {},
   "outputs": [],
   "source": [
    "def greetuser(username):\n",
    "    \"'creating a greetuser function'\"\n",
    "    print(f\"Hello, {username.title()}\")"
   ]
  },
  {
   "cell_type": "code",
   "execution_count": 5,
   "id": "5ef678f5",
   "metadata": {},
   "outputs": [
    {
     "name": "stdout",
     "output_type": "stream",
     "text": [
      "Hello, Gulafshan\n"
     ]
    }
   ],
   "source": [
    "greetuser('Gulafshan')"
   ]
  },
  {
   "cell_type": "code",
   "execution_count": null,
   "id": "34a8cbb4",
   "metadata": {},
   "outputs": [],
   "source": []
  },
  {
   "cell_type": "code",
   "execution_count": 16,
   "id": "10ae88dc",
   "metadata": {},
   "outputs": [],
   "source": [
    "def describe_pet(animal_type,pet_name):\n",
    "    \"'creating a pet details function '\"\n",
    "    print(f\"I have a {animal_type}\")\n",
    "    print(f\"My {animal_type} name is {pet_name}\")"
   ]
  },
  {
   "cell_type": "code",
   "execution_count": 17,
   "id": "d26f9e54",
   "metadata": {},
   "outputs": [
    {
     "name": "stdout",
     "output_type": "stream",
     "text": [
      "I have a Dog\n",
      "My Dog name is Bruno\n"
     ]
    }
   ],
   "source": [
    "describe_pet('Dog','Bruno')"
   ]
  },
  {
   "cell_type": "code",
   "execution_count": 18,
   "id": "3e1ac635",
   "metadata": {},
   "outputs": [
    {
     "name": "stdout",
     "output_type": "stream",
     "text": [
      "I have a cat\n",
      "My cat name is snowbell\n"
     ]
    }
   ],
   "source": [
    "describe_pet('cat','snowbell')"
   ]
  },
  {
   "cell_type": "code",
   "execution_count": 20,
   "id": "3152be6d",
   "metadata": {},
   "outputs": [
    {
     "name": "stdout",
     "output_type": "stream",
     "text": [
      "I have a scooby\n",
      "My scooby name is dog\n"
     ]
    }
   ],
   "source": [
    "describe_pet('scooby','dog')"
   ]
  },
  {
   "cell_type": "code",
   "execution_count": 21,
   "id": "ac6c0426",
   "metadata": {},
   "outputs": [
    {
     "name": "stdout",
     "output_type": "stream",
     "text": [
      "I have a Dog\n",
      "My Dog name is scooby\n"
     ]
    }
   ],
   "source": [
    "describe_pet(pet_name='scooby',animal_type='Dog')"
   ]
  },
  {
   "cell_type": "code",
   "execution_count": 23,
   "id": "71fb63af",
   "metadata": {},
   "outputs": [
    {
     "ename": "TypeError",
     "evalue": "describe_pet() missing 1 required positional argument: 'pet_name'",
     "output_type": "error",
     "traceback": [
      "\u001b[1;31m---------------------------------------------------------------------------\u001b[0m",
      "\u001b[1;31mTypeError\u001b[0m                                 Traceback (most recent call last)",
      "\u001b[1;32m<ipython-input-23-fce21b101470>\u001b[0m in \u001b[0;36m<module>\u001b[1;34m\u001b[0m\n\u001b[1;32m----> 1\u001b[1;33m \u001b[0mdescribe_pet\u001b[0m\u001b[1;33m(\u001b[0m\u001b[1;34m'barfi'\u001b[0m\u001b[1;33m)\u001b[0m\u001b[1;33m\u001b[0m\u001b[1;33m\u001b[0m\u001b[0m\n\u001b[0m",
      "\u001b[1;31mTypeError\u001b[0m: describe_pet() missing 1 required positional argument: 'pet_name'"
     ]
    }
   ],
   "source": [
    "describe_pet('barfi')"
   ]
  },
  {
   "cell_type": "code",
   "execution_count": 27,
   "id": "fe63bda8",
   "metadata": {},
   "outputs": [],
   "source": [
    "def describe_pet(pet_name,animal_type='Dog'):\n",
    "    \"'creating a Pet function'\"\n",
    "    print(f\"I have a {animal_type}\")\n",
    "    print(f\"My {animal_type} name is {pet_name}\")"
   ]
  },
  {
   "cell_type": "code",
   "execution_count": null,
   "id": "9b8325a5",
   "metadata": {},
   "outputs": [],
   "source": []
  },
  {
   "cell_type": "code",
   "execution_count": null,
   "id": "5ef57f2d",
   "metadata": {},
   "outputs": [],
   "source": []
  },
  {
   "cell_type": "code",
   "execution_count": null,
   "id": "4bb5980b",
   "metadata": {},
   "outputs": [],
   "source": []
  },
  {
   "cell_type": "code",
   "execution_count": null,
   "id": "17b150bb",
   "metadata": {},
   "outputs": [],
   "source": []
  },
  {
   "cell_type": "code",
   "execution_count": 30,
   "id": "2c87c72d",
   "metadata": {},
   "outputs": [
    {
     "name": "stdout",
     "output_type": "stream",
     "text": [
      "I have a Dog\n",
      "My Dog name is barfi\n"
     ]
    }
   ],
   "source": [
    "describe_pet('barfi')"
   ]
  },
  {
   "cell_type": "code",
   "execution_count": 31,
   "id": "bb92f3f1",
   "metadata": {},
   "outputs": [
    {
     "name": "stdout",
     "output_type": "stream",
     "text": [
      "I have a cat\n",
      "My cat name is snowbell\n"
     ]
    }
   ],
   "source": [
    "describe_pet('snowbell','cat')"
   ]
  },
  {
   "cell_type": "code",
   "execution_count": null,
   "id": "c01e2d31",
   "metadata": {},
   "outputs": [],
   "source": []
  },
  {
   "cell_type": "code",
   "execution_count": 32,
   "id": "7be66ecb",
   "metadata": {},
   "outputs": [],
   "source": [
    "def pizza(toppings):\n",
    "    \"'creating a pizza function for accepting all the toppings'\"\n",
    "    print(f\"You have ordered {toppings} as toppings\")"
   ]
  },
  {
   "cell_type": "code",
   "execution_count": 34,
   "id": "c1a5ad4c",
   "metadata": {},
   "outputs": [
    {
     "name": "stdout",
     "output_type": "stream",
     "text": [
      "You have ordered corn as toppings\n"
     ]
    }
   ],
   "source": [
    "pizza('corn')"
   ]
  },
  {
   "cell_type": "code",
   "execution_count": 35,
   "id": "009d492b",
   "metadata": {},
   "outputs": [
    {
     "ename": "TypeError",
     "evalue": "pizza() takes 1 positional argument but 2 were given",
     "output_type": "error",
     "traceback": [
      "\u001b[1;31m---------------------------------------------------------------------------\u001b[0m",
      "\u001b[1;31mTypeError\u001b[0m                                 Traceback (most recent call last)",
      "\u001b[1;32m<ipython-input-35-68779eb7c838>\u001b[0m in \u001b[0;36m<module>\u001b[1;34m\u001b[0m\n\u001b[1;32m----> 1\u001b[1;33m \u001b[0mpizza\u001b[0m\u001b[1;33m(\u001b[0m\u001b[1;34m'corn'\u001b[0m\u001b[1;33m,\u001b[0m \u001b[1;34m'olives'\u001b[0m\u001b[1;33m)\u001b[0m\u001b[1;33m\u001b[0m\u001b[1;33m\u001b[0m\u001b[0m\n\u001b[0m",
      "\u001b[1;31mTypeError\u001b[0m: pizza() takes 1 positional argument but 2 were given"
     ]
    }
   ],
   "source": [
    "pizza('corn', 'olives')"
   ]
  },
  {
   "cell_type": "code",
   "execution_count": 36,
   "id": "645094fd",
   "metadata": {},
   "outputs": [
    {
     "ename": "TypeError",
     "evalue": "pizza() takes 1 positional argument but 3 were given",
     "output_type": "error",
     "traceback": [
      "\u001b[1;31m---------------------------------------------------------------------------\u001b[0m",
      "\u001b[1;31mTypeError\u001b[0m                                 Traceback (most recent call last)",
      "\u001b[1;32m<ipython-input-36-dda927942915>\u001b[0m in \u001b[0;36m<module>\u001b[1;34m\u001b[0m\n\u001b[1;32m----> 1\u001b[1;33m \u001b[0mpizza\u001b[0m\u001b[1;33m(\u001b[0m\u001b[1;34m'corn'\u001b[0m\u001b[1;33m,\u001b[0m\u001b[1;34m'olives'\u001b[0m\u001b[1;33m,\u001b[0m\u001b[1;34m'capsicum'\u001b[0m\u001b[1;33m)\u001b[0m\u001b[1;33m\u001b[0m\u001b[1;33m\u001b[0m\u001b[0m\n\u001b[0m",
      "\u001b[1;31mTypeError\u001b[0m: pizza() takes 1 positional argument but 3 were given"
     ]
    }
   ],
   "source": [
    "pizza('corn','olives','capsicum')"
   ]
  },
  {
   "cell_type": "code",
   "execution_count": 37,
   "id": "8420647d",
   "metadata": {},
   "outputs": [],
   "source": [
    "def pizza(*toppings):\n",
    "    \"'creating a pizza funtion to accept toppings'\"\n",
    "    print(f\"You have ordered {toppings} as toppings\")"
   ]
  },
  {
   "cell_type": "code",
   "execution_count": 38,
   "id": "a9d280da",
   "metadata": {},
   "outputs": [
    {
     "name": "stdout",
     "output_type": "stream",
     "text": [
      "You have ordered ('corn',) as toppings\n"
     ]
    }
   ],
   "source": [
    "pizza('corn')"
   ]
  },
  {
   "cell_type": "code",
   "execution_count": 39,
   "id": "ffd564d1",
   "metadata": {},
   "outputs": [
    {
     "name": "stdout",
     "output_type": "stream",
     "text": [
      "You have ordered ('corn', 'capsicum', 'olives') as toppings\n"
     ]
    }
   ],
   "source": [
    "pizza('corn','capsicum','olives')"
   ]
  },
  {
   "cell_type": "code",
   "execution_count": null,
   "id": "f137e29e",
   "metadata": {},
   "outputs": [],
   "source": []
  },
  {
   "cell_type": "code",
   "execution_count": 42,
   "id": "cdc1856f",
   "metadata": {},
   "outputs": [],
   "source": [
    "def get_formatted_name(fname,lname):\n",
    "    '\"return a fullname, neatly formated\"'\n",
    "    fullname=f\"{fname} {lname}\"\n",
    "    return fullname.title()"
   ]
  },
  {
   "cell_type": "code",
   "execution_count": 44,
   "id": "3843a58a",
   "metadata": {},
   "outputs": [
    {
     "name": "stdout",
     "output_type": "stream",
     "text": [
      "Sayeeda Guafshan\n"
     ]
    }
   ],
   "source": [
    "x=get_formatted_name('sayeeda','guafshan')\n",
    "print(x)"
   ]
  },
  {
   "cell_type": "code",
   "execution_count": null,
   "id": "c6ea28cf",
   "metadata": {},
   "outputs": [],
   "source": []
  },
  {
   "cell_type": "code",
   "execution_count": 48,
   "id": "a6bf5e64",
   "metadata": {},
   "outputs": [],
   "source": [
    "user ={'username':'8088563770','fname':'sayeeda','lname':'gulafshan','pwd':'OTP','dob':'17-10-1994'}"
   ]
  },
  {
   "cell_type": "code",
   "execution_count": 49,
   "id": "98cb092d",
   "metadata": {},
   "outputs": [
    {
     "data": {
      "text/plain": [
       "dict"
      ]
     },
     "execution_count": 49,
     "metadata": {},
     "output_type": "execute_result"
    }
   ],
   "source": [
    "type(user)"
   ]
  },
  {
   "cell_type": "code",
   "execution_count": 50,
   "id": "3ee4facc",
   "metadata": {},
   "outputs": [
    {
     "name": "stdout",
     "output_type": "stream",
     "text": [
      "8088563770\n"
     ]
    }
   ],
   "source": [
    "print(user['username'])"
   ]
  },
  {
   "cell_type": "code",
   "execution_count": 52,
   "id": "54c7e799",
   "metadata": {},
   "outputs": [
    {
     "ename": "KeyError",
     "evalue": "'sayeeda'",
     "output_type": "error",
     "traceback": [
      "\u001b[1;31m---------------------------------------------------------------------------\u001b[0m",
      "\u001b[1;31mKeyError\u001b[0m                                  Traceback (most recent call last)",
      "\u001b[1;32m<ipython-input-52-03727f5f89a1>\u001b[0m in \u001b[0;36m<module>\u001b[1;34m\u001b[0m\n\u001b[1;32m----> 1\u001b[1;33m \u001b[0mprint\u001b[0m\u001b[1;33m(\u001b[0m\u001b[0muser\u001b[0m\u001b[1;33m[\u001b[0m\u001b[1;34m'sayeeda'\u001b[0m\u001b[1;33m]\u001b[0m\u001b[1;33m)\u001b[0m\u001b[1;33m\u001b[0m\u001b[1;33m\u001b[0m\u001b[0m\n\u001b[0m",
      "\u001b[1;31mKeyError\u001b[0m: 'sayeeda'"
     ]
    }
   ],
   "source": [
    "print(user['sayeeda'])"
   ]
  },
  {
   "cell_type": "code",
   "execution_count": 53,
   "id": "fa16634b",
   "metadata": {},
   "outputs": [],
   "source": [
    "user['location']= 'DLF Park'"
   ]
  },
  {
   "cell_type": "raw",
   "id": "6753069d",
   "metadata": {},
   "source": [
    "user"
   ]
  },
  {
   "cell_type": "code",
   "execution_count": 54,
   "id": "a093f9d9",
   "metadata": {},
   "outputs": [
    {
     "name": "stdout",
     "output_type": "stream",
     "text": [
      "{'username': '8088563770', 'fname': 'sayeeda', 'lname': 'gulafshan', 'pwd': 'OTP', 'dob': '17-10-1994', 'location': 'DLF Park'}\n"
     ]
    }
   ],
   "source": [
    "print(user)"
   ]
  },
  {
   "cell_type": "code",
   "execution_count": 55,
   "id": "e707a61d",
   "metadata": {},
   "outputs": [
    {
     "name": "stdout",
     "output_type": "stream",
     "text": [
      "key:username\n",
      "value: 8088563770\n",
      "\n",
      "key:fname\n",
      "value: sayeeda\n",
      "\n",
      "key:lname\n",
      "value: gulafshan\n",
      "\n",
      "key:pwd\n",
      "value: OTP\n",
      "\n",
      "key:dob\n",
      "value: 17-10-1994\n",
      "\n",
      "key:location\n",
      "value: DLF Park\n",
      "\n"
     ]
    }
   ],
   "source": [
    "for x,y in user.items():\n",
    "    print(f\"key:{x}\")\n",
    "    print(f\"value: {y}\\n\")"
   ]
  },
  {
   "cell_type": "code",
   "execution_count": 57,
   "id": "f6f5270e",
   "metadata": {},
   "outputs": [
    {
     "name": "stdout",
     "output_type": "stream",
     "text": [
      "key= username\n",
      "key= fname\n",
      "key= lname\n",
      "key= pwd\n",
      "key= dob\n",
      "key= location\n"
     ]
    }
   ],
   "source": [
    "for x in user.keys():\n",
    "    print(f\"key= {x}\")"
   ]
  },
  {
   "cell_type": "code",
   "execution_count": 58,
   "id": "9ff32b52",
   "metadata": {},
   "outputs": [
    {
     "name": "stdout",
     "output_type": "stream",
     "text": [
      "value=8088563770\n",
      "value=sayeeda\n",
      "value=gulafshan\n",
      "value=OTP\n",
      "value=17-10-1994\n",
      "value=DLF Park\n"
     ]
    }
   ],
   "source": [
    "for y in user.values():\n",
    "    print(f\"value={y}\")"
   ]
  },
  {
   "cell_type": "code",
   "execution_count": null,
   "id": "84588a0f",
   "metadata": {},
   "outputs": [],
   "source": [
    "User accepted input"
   ]
  },
  {
   "cell_type": "code",
   "execution_count": 60,
   "id": "7cbf2fbb",
   "metadata": {},
   "outputs": [
    {
     "name": "stdout",
     "output_type": "stream",
     "text": [
      "enter your nameGulafshan\n",
      "\n",
      "My name is Gulafshan\n"
     ]
    }
   ],
   "source": [
    "name =input(\"enter your name\")\n",
    "print(f\"\\nMy name is {name}\")"
   ]
  },
  {
   "cell_type": "code",
   "execution_count": 62,
   "id": "e3c6f80e",
   "metadata": {},
   "outputs": [
    {
     "name": "stdout",
     "output_type": "stream",
     "text": [
      "enter your age26\n",
      "26\n"
     ]
    }
   ],
   "source": [
    "age =input('enter your age')\n",
    "print(age)"
   ]
  },
  {
   "cell_type": "code",
   "execution_count": 63,
   "id": "aa77faba",
   "metadata": {},
   "outputs": [
    {
     "ename": "TypeError",
     "evalue": "'>=' not supported between instances of 'str' and 'int'",
     "output_type": "error",
     "traceback": [
      "\u001b[1;31m---------------------------------------------------------------------------\u001b[0m",
      "\u001b[1;31mTypeError\u001b[0m                                 Traceback (most recent call last)",
      "\u001b[1;32m<ipython-input-63-d9f2f1dd26b8>\u001b[0m in \u001b[0;36m<module>\u001b[1;34m\u001b[0m\n\u001b[1;32m----> 1\u001b[1;33m \u001b[0mage\u001b[0m\u001b[1;33m>=\u001b[0m\u001b[1;36m18\u001b[0m\u001b[1;33m\u001b[0m\u001b[1;33m\u001b[0m\u001b[0m\n\u001b[0m",
      "\u001b[1;31mTypeError\u001b[0m: '>=' not supported between instances of 'str' and 'int'"
     ]
    }
   ],
   "source": [
    "age>=18"
   ]
  },
  {
   "cell_type": "code",
   "execution_count": 64,
   "id": "b33f36b0",
   "metadata": {},
   "outputs": [
    {
     "name": "stdout",
     "output_type": "stream",
     "text": [
      "Enter Your age26\n",
      "26\n"
     ]
    }
   ],
   "source": [
    "age =input('Enter Your age')\n",
    "age =int(age)\n",
    "print(age)"
   ]
  },
  {
   "cell_type": "code",
   "execution_count": 65,
   "id": "2f0dfe83",
   "metadata": {},
   "outputs": [
    {
     "data": {
      "text/plain": [
       "True"
      ]
     },
     "execution_count": 65,
     "metadata": {},
     "output_type": "execute_result"
    }
   ],
   "source": [
    "age>=18"
   ]
  },
  {
   "cell_type": "code",
   "execution_count": null,
   "id": "a56f18ee",
   "metadata": {},
   "outputs": [],
   "source": [
    "age =input('Enter Your age')\n",
    "age =int(age)\n",
    "if age>=18:\n",
    "    print(f\"Your age is {age}, And your Eligible for voting\")\n",
    "else:\n",
    "    print('try next year')\n"
   ]
  },
  {
   "cell_type": "code",
   "execution_count": null,
   "id": "d7110f10",
   "metadata": {},
   "outputs": [],
   "source": [
    "age =input('Enter Your age')\n",
    "age =int(age)\n",
    "if age>=18:\n",
    "    print(f\"Your age is {age}, And your Eligible for voting\")\n",
    "else:\n",
    "    print('try next year')"
   ]
  },
  {
   "cell_type": "code",
   "execution_count": null,
   "id": "efa074a1",
   "metadata": {},
   "outputs": [],
   "source": []
  },
  {
   "cell_type": "code",
   "execution_count": null,
   "id": "a3ab4422",
   "metadata": {},
   "outputs": [],
   "source": []
  },
  {
   "cell_type": "code",
   "execution_count": null,
   "id": "403a17b3",
   "metadata": {},
   "outputs": [],
   "source": []
  }
 ],
 "metadata": {
  "kernelspec": {
   "display_name": "Python 3",
   "language": "python",
   "name": "python3"
  },
  "language_info": {
   "codemirror_mode": {
    "name": "ipython",
    "version": 3
   },
   "file_extension": ".py",
   "mimetype": "text/x-python",
   "name": "python",
   "nbconvert_exporter": "python",
   "pygments_lexer": "ipython3",
   "version": "3.8.8"
  }
 },
 "nbformat": 4,
 "nbformat_minor": 5
}
